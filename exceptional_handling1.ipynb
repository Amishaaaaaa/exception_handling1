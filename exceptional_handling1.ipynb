{
 "cells": [
  {
   "cell_type": "code",
   "execution_count": null,
   "id": "ff631d98-1fb9-4840-9d0e-425abe063f25",
   "metadata": {},
   "outputs": [],
   "source": [
    "#Q1. what is an exception in python? write difference between exceptions and syntax errors\n",
    "\n",
    "'''\n",
    "In Python, an exception is an event that occurs during the execution of a program that disrupts the normal flow of instructions. \n",
    "When an exceptional situation arises, such as an error or an unexpected condition, Python raises an exception. Exceptions allow you to handle \n",
    "errors and exceptional situations in a structured manner.\n",
    "\n",
    "Exceptions can be raised explicitly by using the raise statement or implicitly by the Python interpreter when it encounters an error. \n",
    "When an exception is raised, the normal flow of the program is interrupted, and the program jumps to a specialized error-handling code block \n",
    "called an exception handler. If the exception is not handled, it propagates up the call stack until it reaches the top-level of the program, \n",
    "where it can cause the program to terminate.\n",
    "\n",
    "On the other hand, syntax errors are a type of error that occurs when the Python interpreter encounters invalid code that does not follow \n",
    "the language's syntax rules. These errors are detected by the interpreter during the parsing phase before the program is executed. Syntax errors \n",
    "usually indicate mistakes such as misspelled keywords, missing colons, incorrect indentation, or invalid variable names.\n",
    "'''"
   ]
  },
  {
   "cell_type": "code",
   "execution_count": null,
   "id": "abdca5f2-aaee-4875-99cc-31e25c3d0f02",
   "metadata": {},
   "outputs": [],
   "source": [
    "#Q2. what happens when an exception is not handled? explain with an example\n",
    "\n",
    "'''\n",
    "When an exception is not handled in Python, it leads to the termination of the program and an error message is displayed to the user. \n",
    "Let's take an example to understand this:\n",
    "'''\n",
    "def divide(a, b):\n",
    "    result = a / b\n",
    "    return result\n",
    "\n",
    "# Main program\n",
    "num1 = 10\n",
    "num2 = 0\n",
    "\n",
    "result = divide(num1, num2)\n",
    "print(\"Result:\", result)\n",
    "\n",
    "'''\n",
    "In this example, the divide function attempts to divide num1 by num2. However, since num2 is set to 0, it will raise a \n",
    "ZeroDivisionError exception because dividing by zero is not allowed in mathematics.\n",
    "'''"
   ]
  },
  {
   "cell_type": "code",
   "execution_count": 1,
   "id": "9b491fa4-d7d9-4398-85eb-845723b2c398",
   "metadata": {},
   "outputs": [
    {
     "name": "stdout",
     "output_type": "stream",
     "text": [
      "division by zero\n"
     ]
    }
   ],
   "source": [
    "#Q3. Which python statements are used to catch and handle exceptions? explain with example.\n",
    "\n",
    "'''\n",
    "In Python, you can catch and handle exceptions using the try-except statement. \n",
    "The try block is used to enclose the code that may raise an exception, while the except block is used to specify the code that should be \n",
    "executed if a specific exception is raised. \n",
    "'''\n",
    "\n",
    "try:\n",
    "    a=5/0\n",
    "except ZeroDivisionError as e:\n",
    "    print(e)\n",
    "    "
   ]
  },
  {
   "cell_type": "code",
   "execution_count": null,
   "id": "e3600f8a-d5a8-4869-8291-d9b31e4276ed",
   "metadata": {},
   "outputs": [],
   "source": [
    "'''\n",
    "Q4. Explain with an example: \n",
    "a) try and else\n",
    "b)finally \n",
    "c)raise\n",
    "'''\n",
    "\n",
    "'''\n",
    "The else block is used in conjunction with the try-except statement to specify code that should be executed if no \n",
    "exceptions are raised in the try block.\n",
    "The else block is optional. If you don't include it, the code following the try-except statement will be executed regardless of \n",
    "whether an exception occurred or not.\n",
    "\n",
    "The finally block is used in conjunction with the try-except statement and is executed regardless of whether an exception was raised or not. \n",
    "It is typically used to specify code that must be executed, such as cleanup operations, no matter what happens. \n",
    "\n",
    "The raise statement is used to explicitly raise an exception in Python. You can raise built-in exceptions or create your own custom exceptions. \n",
    "'''"
   ]
  },
  {
   "cell_type": "code",
   "execution_count": null,
   "id": "73d48bb4-a7dc-44ab-8e86-176392ad5ecb",
   "metadata": {},
   "outputs": [],
   "source": [
    "#Q5. what are custom exceptions? Why do we need custom Exceptions? Explain with an example\n",
    "'''\n",
    "Custom exceptions, also known as user-defined exceptions, are exceptions created by the programmer to represent specific exceptional \n",
    "situations that can occur within their code. They allow you to define and raise exceptions that are specific to your application's \n",
    "domain or the logic of your program. Custom exceptions provide more meaningful and informative error messages, making it easier to identify \n",
    "and handle specific exceptional cases.\n",
    "'''\n",
    "try:\n",
    "    a=5/0\n",
    "except ZeroDivisionError as e:\n",
    "    print(e)"
   ]
  },
  {
   "cell_type": "code",
   "execution_count": null,
   "id": "083afc6e-6bd0-41df-8e08-75b0363d3e84",
   "metadata": {},
   "outputs": [],
   "source": [
    "#Q6. Create a custom exception class. Use this class to handle an exception.\n",
    "\n",
    "class CustomException(Exception):\n",
    "    def __init__(self, message):\n",
    "        self.message = message\n",
    "\n",
    "    def __str__(self):\n",
    "        return f\"Custom Exception: {self.message}\"\n",
    "\n",
    "def divide(a, b):\n",
    "    if b == 0:\n",
    "        raise CustomException(\"Cannot divide by zero\")\n",
    "    return a / b\n",
    "\n",
    "try:\n",
    "    result = divide(10, 0)\n",
    "except CustomException as e:\n",
    "    print(\"An error occurred:\", e)"
   ]
  }
 ],
 "metadata": {
  "kernelspec": {
   "display_name": "Python 3 (ipykernel)",
   "language": "python",
   "name": "python3"
  },
  "language_info": {
   "codemirror_mode": {
    "name": "ipython",
    "version": 3
   },
   "file_extension": ".py",
   "mimetype": "text/x-python",
   "name": "python",
   "nbconvert_exporter": "python",
   "pygments_lexer": "ipython3",
   "version": "3.10.8"
  }
 },
 "nbformat": 4,
 "nbformat_minor": 5
}
